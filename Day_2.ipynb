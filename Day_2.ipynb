{
 "cells": [
  {
   "cell_type": "markdown",
   "metadata": {},
   "source": [
    "## Lists\n",
    "- Python list is also a built-in data structure available in Python. It can contain heterogeneous values \n",
    "such as integers, floats, strings, tuples, lists, and dictionaries. \n",
    "However, Python lists are mutable; yes, they can change."
   ]
  },
  {
   "cell_type": "code",
   "execution_count": null,
   "metadata": {},
   "outputs": [],
   "source": [
    "# creating a list with values\n",
    "Avengers = ['hulk', 'iron-man', 'Captain', 'Thor', 5, [\"Ali\", \"Simbi\"]]\n",
    "l1 = []"
   ]
  },
  {
   "cell_type": "markdown",
   "metadata": {},
   "source": [
    "## Unpacking list values"
   ]
  },
  {
   "cell_type": "code",
   "execution_count": 1,
   "metadata": {},
   "outputs": [],
   "source": [
    "a, b = [1, 2]\n",
    "\n"
   ]
  },
  {
   "cell_type": "code",
   "execution_count": 3,
   "metadata": {},
   "outputs": [],
   "source": [
    "#a, b, c = [2, 3]\n"
   ]
  },
  {
   "cell_type": "code",
   "execution_count": null,
   "metadata": {},
   "outputs": [],
   "source": []
  },
  {
   "cell_type": "markdown",
   "metadata": {},
   "source": [
    "## List operations\n",
    "- In this section, you will learn slicing, accessing, adding, deleting, and updating the values in a list.\n",
    "\n",
    "### Accessing list values\n",
    "- In order to access list values, use list names with positional index in square brackets."
   ]
  },
  {
   "cell_type": "code",
   "execution_count": 4,
   "metadata": {},
   "outputs": [],
   "source": [
    "Avengers = ['hulk', 'iron-man', 'Captain', 'Thor', 5, [\"Ali\", \"Simbi\"]]\n",
    "\n",
    "\n",
    "# accessing elements at different position in the list\n",
    "\n"
   ]
  },
  {
   "cell_type": "markdown",
   "metadata": {},
   "source": [
    "### Slicing the list\n",
    "- The slicing of a list is the same as we did in tuples. See the syntax:\n",
    "\n",
    "    \n",
    "- $list-name$[start : stop : step]"
   ]
  },
  {
   "cell_type": "code",
   "execution_count": 5,
   "metadata": {},
   "outputs": [],
   "source": [
    "# reverse the list\n",
    "\n",
    "\n",
    "# different examples of slicing\n",
    "\n",
    "Avengers[2: 5]\n",
    "\n",
    "list1 = [1,2,3,4,5,6,7,8,9,10,11,12,13]\n",
    "\n",
    "\n",
    "#list1[1:13:3]\n"
   ]
  },
  {
   "cell_type": "markdown",
   "metadata": {},
   "source": [
    "## Updating the list\n",
    "- Lists are mutable, so the values of a list can be updated."
   ]
  },
  {
   "cell_type": "code",
   "execution_count": 6,
   "metadata": {},
   "outputs": [],
   "source": [
    "Avengers = ['hulk', 'iron-man', 'Captain', 'Thor', 5, [\"Ali\", \"Simbi\"]]\n",
    "\n",
    "# update the 3rd element to \"Captain-America\"\n",
    "\n"
   ]
  },
  {
   "cell_type": "markdown",
   "metadata": {},
   "source": [
    "## Deleting values from a list\n",
    "- By using the $del$ keyword, you can delete a value or a slice of list from the list. "
   ]
  },
  {
   "cell_type": "code",
   "execution_count": 8,
   "metadata": {},
   "outputs": [],
   "source": [
    "C_W_team = ['hulk', 'iron-man', 'Captain-America', 'Thor',\"Vision\"]\n",
    "\n",
    "# delete the first element from the list\n",
    "\n",
    "#del C_W_team[0]"
   ]
  },
  {
   "cell_type": "code",
   "execution_count": 9,
   "metadata": {},
   "outputs": [],
   "source": [
    "#C_W_team\n"
   ]
  },
  {
   "cell_type": "code",
   "execution_count": 10,
   "metadata": {},
   "outputs": [],
   "source": [
    "#del C_W_team[2:4]"
   ]
  },
  {
   "cell_type": "code",
   "execution_count": 11,
   "metadata": {},
   "outputs": [],
   "source": [
    "#C_W_team"
   ]
  },
  {
   "cell_type": "markdown",
   "metadata": {},
   "source": [
    "## Addition of Python Lists\n",
    "- You can add two lists by using the + operator. "
   ]
  },
  {
   "cell_type": "code",
   "execution_count": 12,
   "metadata": {},
   "outputs": [],
   "source": [
    "Avengers1 = ['hulk', 'iron-man', 'Captain-America', 'Thor']\n",
    "Avengers2 = [\"Vision\",\"sam\"]\n",
    "\n",
    "# add the two lists\n",
    "\n"
   ]
  },
  {
   "cell_type": "markdown",
   "metadata": {},
   "source": [
    "## Multiplication of lists\n",
    "- By using the * operator, you can perform multiplication of Python lists."
   ]
  },
  {
   "cell_type": "code",
   "execution_count": 13,
   "metadata": {},
   "outputs": [],
   "source": [
    "Av = ['Vision', 'sam']\n",
    "\n",
    "#new_Av = Av*3\n",
    "\n",
    "#new_Av"
   ]
  },
  {
   "cell_type": "markdown",
   "metadata": {},
   "source": [
    "## in Operator\n",
    "- You can use the in operator on list with the if statement. "
   ]
  },
  {
   "cell_type": "code",
   "execution_count": 16,
   "metadata": {},
   "outputs": [],
   "source": [
    "Avengers= ['hulk', 'iron-man', 'Captain-America', 'Thor']\n",
    "\n",
    "# check if \"iron-man\" is in the list\n",
    "\n",
    "\n",
    "# you can also check on \"vision\"\n",
    "\n"
   ]
  },
  {
   "cell_type": "markdown",
   "metadata": {},
   "source": [
    "## List functions\n",
    "- In this section, we will discuss some Python built-in functions, which can be applied to a list.\n"
   ]
  },
  {
   "cell_type": "code",
   "execution_count": 17,
   "metadata": {},
   "outputs": [],
   "source": [
    "# The len() function returns the number of elements or values in the list\n",
    "avengers = ['hulk', 'iron-man', 'Captain-America', 'Thor']\n",
    "\n",
    "\n",
    "# The max (list) function returns the element of the list with the maximum value:\n",
    "list1 = [1, 2, 3, 4,510]\n",
    "\n"
   ]
  },
  {
   "cell_type": "markdown",
   "metadata": {},
   "source": [
    "## list()\n",
    "- You can easily convert a tuple into a list by using the list () function.\n"
   ]
  },
  {
   "cell_type": "code",
   "execution_count": 18,
   "metadata": {},
   "outputs": [],
   "source": [
    "# convert the tuple to a list\n",
    "tup1 = (\"a\",\"b\",\"c\")\n",
    "\n",
    "\n",
    "name = \"mohit raj\"\n",
    "\n"
   ]
  },
  {
   "cell_type": "markdown",
   "metadata": {},
   "source": [
    "## sorted()\n",
    "- Python offers you a function to sort the list, called sorted ().\n"
   ]
  },
  {
   "cell_type": "code",
   "execution_count": 19,
   "metadata": {},
   "outputs": [],
   "source": [
    "list1 = [2, 3, 0, 3, 1, 4, 7, 1]\n",
    "\n",
    "# sort the list both in ascending and descending order\n",
    "\n",
    "tup1 = (2, 3, 0, 3, 1, 4, 7, 1)\n",
    "\n"
   ]
  },
  {
   "cell_type": "markdown",
   "metadata": {},
   "source": [
    "## List Methods\n",
    "- Here, we will discuss different methods that can be applied to a list."
   ]
  },
  {
   "cell_type": "markdown",
   "metadata": {},
   "source": [
    "## append()\n",
    "- The syntax for the append () method is given as follows:\n",
    "    - list.append () \n",
    "\n",
    "- The method adds a value at the end of the list."
   ]
  },
  {
   "cell_type": "code",
   "execution_count": 20,
   "metadata": {},
   "outputs": [],
   "source": [
    "Avengers = []\n",
    "\n",
    "# Append [\"iron-man\", 'Thor'] to the empty list\n",
    "\n",
    "\n",
    "# Also append \"Captain-America\" \n",
    "\n"
   ]
  },
  {
   "cell_type": "markdown",
   "metadata": {},
   "source": [
    "## extend()\n",
    "- If the goal is to add two lists together, and want the original list affected, then \"extend()\" is appropriate.\n",
    "- The syntax for the extend () method is given as follows:\n",
    "    - list1.extend (seq)"
   ]
  },
  {
   "cell_type": "code",
   "execution_count": 21,
   "metadata": {},
   "outputs": [],
   "source": [
    "Avengers1 = ['hulk', 'iron-man', 'Captain-America', 'Thor']\n",
    "Avengers2 = [\"Vision\",\"sam\"]\n",
    "\n",
    "\n",
    "# extend the first list by the second list\n",
    "\n"
   ]
  },
  {
   "cell_type": "code",
   "execution_count": 22,
   "metadata": {},
   "outputs": [],
   "source": [
    "#Avengers1"
   ]
  },
  {
   "cell_type": "markdown",
   "metadata": {},
   "source": [
    "## difference btw append and extend"
   ]
  },
  {
   "cell_type": "code",
   "execution_count": 23,
   "metadata": {},
   "outputs": [],
   "source": [
    "Linux  = [\"kali\", \"Ubuntu\", \"debian\"]\n",
    "Linux2 = [\"RHEL\", \"Centos\"]\n",
    "\n",
    "# append the two lists\n",
    "#Linux.append(Linux2)\n",
    "#Linux\n",
    "\n",
    "# extend the lists\n",
    "\n"
   ]
  },
  {
   "cell_type": "markdown",
   "metadata": {},
   "source": [
    "## sorted() and sort()"
   ]
  },
  {
   "cell_type": "code",
   "execution_count": 24,
   "metadata": {},
   "outputs": [],
   "source": [
    "l1 = [3, 2, 3, 6, 9, 4, 50]\n",
    "\n",
    "\n",
    "# sort the list using sort() and sorted()\n",
    "#l1.sort(reverse = True)\n",
    "\n",
    "#sorted(l1, reverse = True)\n",
    "\n",
    "\n"
   ]
  },
  {
   "cell_type": "markdown",
   "metadata": {},
   "source": [
    "## count()\n",
    "- The count () method is used to find the occurrence of an item in a list."
   ]
  },
  {
   "cell_type": "code",
   "execution_count": 25,
   "metadata": {},
   "outputs": [],
   "source": [
    "list1 = [\"a\",\"c\",\"b\",\"c\",\"a\",\"h\",\"l\", 1, 2, 3, 4]\n",
    "\n",
    "# count the number of times \"a\", \"c\", and \"k\" occur\n",
    "\n",
    "#list1.count(\"a\")"
   ]
  },
  {
   "cell_type": "markdown",
   "metadata": {},
   "source": [
    "## index()\n",
    "- The index () method is used to find the position of a particular item in a list."
   ]
  },
  {
   "cell_type": "code",
   "execution_count": 26,
   "metadata": {},
   "outputs": [],
   "source": [
    "OS = ['kali', 'Ubuntu', 'debian', 'RHEL', 'Centos']\n",
    "\n",
    "# find the position of \"debian\" in the list\n",
    "#OS.index(\"debian\")\n",
    "\n",
    "# If an item occurs two times, then the index method returns the index of the first occurrence. \n"
   ]
  },
  {
   "cell_type": "markdown",
   "metadata": {},
   "source": [
    "## insert()\n",
    "- The syntax for the insert () method is given as follows:\n",
    "    - list1.insert (index1, item)\n",
    "    \n",
    "\n",
    "- $index1$ is the position where the item needs to be inserted. The $item$ is the value to be inserted into list1."
   ]
  },
  {
   "cell_type": "code",
   "execution_count": 65,
   "metadata": {},
   "outputs": [
    {
     "data": {
      "text/plain": [
       "['Captain-America', 'iron-man', 'hulk', 'Thor']"
      ]
     },
     "execution_count": 65,
     "metadata": {},
     "output_type": "execute_result"
    }
   ],
   "source": [
    "A = ['iron-man', 'hulk', 'Thor']\n",
    "\n",
    "# insert 'Captain-America' in the ist position \n",
    "A.insert(0, \"Captain-America\")\n",
    "A"
   ]
  },
  {
   "cell_type": "markdown",
   "metadata": {},
   "source": [
    "## remove()\n",
    "- The remove () method is used to remove an item from a list."
   ]
  },
  {
   "cell_type": "code",
   "execution_count": 66,
   "metadata": {},
   "outputs": [
    {
     "data": {
      "text/plain": [
       "['Iron-man', 'Thor', 'hulk']"
      ]
     },
     "execution_count": 66,
     "metadata": {},
     "output_type": "execute_result"
    }
   ],
   "source": [
    "Avengers1 = [\"Iron-man\",\"Thor\",\"Loki\",\"hulk\"]\n",
    "\n",
    "# remove \"Loki\" from the list\n",
    "Avengers1.remove(\"Loki\")\n",
    "\n",
    "#num = [1,2,3,4,5,6,4,1,7]\n",
    "\n",
    "# remove number 2 from the list\n",
    "\n",
    "Avengers1"
   ]
  },
  {
   "cell_type": "markdown",
   "metadata": {},
   "source": [
    "## reverse()\n",
    "- Our last list method is reverse(). The reverse() method reverses the items of a list.\n"
   ]
  },
  {
   "cell_type": "code",
   "execution_count": 69,
   "metadata": {},
   "outputs": [
    {
     "data": {
      "text/plain": [
       "['Clint', 'vision', 'Thor', 'Captain-America', 'iron-man', 'hulk']"
      ]
     },
     "execution_count": 69,
     "metadata": {},
     "output_type": "execute_result"
    }
   ],
   "source": [
    "av = ['hulk', 'iron-man', 'Captain-America', 'Thor', 'vision', 'Clint']\n",
    "\n",
    "# reverse the list\n",
    "\n",
    "av.reverse()\n",
    "av"
   ]
  },
  {
   "cell_type": "markdown",
   "metadata": {},
   "source": [
    "## List Comprehensions\n",
    "- List comprehension is a concise way of creating lists."
   ]
  },
  {
   "cell_type": "code",
   "execution_count": 72,
   "metadata": {},
   "outputs": [
    {
     "data": {
      "text/plain": [
       "[8, 27, 64, 125, 216]"
      ]
     },
     "execution_count": 72,
     "metadata": {},
     "output_type": "execute_result"
    }
   ],
   "source": [
    "list1 = [2,3,4,5,6]\n",
    "\n",
    "# loop through the list to get the square of each number in the list\n",
    "square = []   # create an empty list\n",
    "for i in list1:\n",
    "    square.append(i ** 2)\n",
    "square\n",
    "\n",
    "# using list comprehension\n",
    "square = [i** 3 for i in list1]\n",
    "square"
   ]
  },
  {
   "cell_type": "code",
   "execution_count": 76,
   "metadata": {},
   "outputs": [
    {
     "data": {
      "text/plain": [
       "[4, 16, 36, 64, 100]"
      ]
     },
     "execution_count": 76,
     "metadata": {},
     "output_type": "execute_result"
    }
   ],
   "source": [
    "#  Create a new list that would contain the square of the even numbers of a given list\n",
    "list1 = [2,3,4,5,6, 7, 8, 9, 10]\n",
    "\n",
    "even_square = []\n",
    "for i in list1:\n",
    "    if i % 2 == 0:\n",
    "        even_square.append(i ** 2)\n",
    "even_square\n",
    "\n",
    "even_square = [i ** 2 for i in list1 if i % 2 == 0]\n",
    "even_square"
   ]
  },
  {
   "cell_type": "markdown",
   "metadata": {},
   "source": [
    "## Dictionaries\n",
    "- In Python, a dictionary is a sequence of key-value, or item pairs separated by commas. \n",
    "- Consider the following example:\n",
    "    - port = {22: \"SSH\", 23: \"Telnet\" , 53: \"DNS\", 80: \"HTTP\" } \n",
    "- The port variable refers to a dictionary that contains port numbers as keys and its protocol names as values. \n",
    "- Consider the following example:\n",
    "    - companies = {\"IBM\": \"International Business Machines\", \"L&T\" :\"Larsen & Toubro\"} \n",
    "- The syntax of a dictionary is as follows:\n",
    "    - Dictionary_name = {key: value}"
   ]
  },
  {
   "cell_type": "markdown",
   "metadata": {},
   "source": [
    "## Accessing the values of dictionary\n",
    "- In order to access the dictionary's values you will need the key."
   ]
  },
  {
   "cell_type": "code",
   "execution_count": 27,
   "metadata": {},
   "outputs": [],
   "source": [
    "port = {80: \"HTTP\", 23 : \"Telnet\", 443 : \"HTTPS\"} \n",
    "\n",
    "# get the key of value 23\n"
   ]
  },
  {
   "cell_type": "markdown",
   "metadata": {},
   "source": [
    "## Deleting an item from the dictionary\n",
    "- By using the $del$ keyword, you can delete the entire dictionary or the dictionary's items."
   ]
  },
  {
   "cell_type": "code",
   "execution_count": 78,
   "metadata": {},
   "outputs": [
    {
     "data": {
      "text/plain": [
       "{23: 'Telnet', 443: 'HTTPS'}"
      ]
     },
     "execution_count": 78,
     "metadata": {},
     "output_type": "execute_result"
    }
   ],
   "source": [
    "# delete an item in the dictionary\n",
    "del port[80]\n",
    "port"
   ]
  },
  {
   "cell_type": "markdown",
   "metadata": {},
   "source": [
    "## Updating the values of the dictionary\n",
    "- Updating the dictionary is pretty simple; just specify the key in the square bracket along with the dictionary name. \n",
    "The syntax is as follows:\n",
    "    - dict[key] = new_value "
   ]
  },
  {
   "cell_type": "code",
   "execution_count": 28,
   "metadata": {},
   "outputs": [],
   "source": [
    "port = {80: \"HTTP\", 23 : \"SMTP\", 443 : \"HTTPS\"} \n",
    "\n",
    "# update the value of key 23 to \"TELNET\"\n",
    "\n"
   ]
  },
  {
   "cell_type": "markdown",
   "metadata": {},
   "source": [
    "## Adding an item to the dictionary\n",
    "- Adding an item to the dictionary is very simple; just specify a new key in the square brackets along with the dictionary."
   ]
  },
  {
   "cell_type": "code",
   "execution_count": 83,
   "metadata": {},
   "outputs": [
    {
     "data": {
      "text/plain": [
       "{80: 'HTTP', 23: 'TELNET', 443: 'HTTPS', 110: 'POP', 'name': ['POP', 'SMTP']}"
      ]
     },
     "execution_count": 83,
     "metadata": {},
     "output_type": "execute_result"
    }
   ],
   "source": [
    "# add key:value (110:'POP') to the dictionary above\n",
    "\n",
    "port[\"name\"] = ['POP', 'SMTP']\n",
    "port"
   ]
  },
  {
   "cell_type": "markdown",
   "metadata": {},
   "source": [
    "## Dictionary functions"
   ]
  },
  {
   "cell_type": "code",
   "execution_count": 84,
   "metadata": {},
   "outputs": [
    {
     "data": {
      "text/plain": [
       "5"
      ]
     },
     "execution_count": 84,
     "metadata": {},
     "output_type": "execute_result"
    }
   ],
   "source": [
    "# In order to find the number of items that are present in a dictionary, you can use the len() function.\n",
    "\n",
    "len(port)"
   ]
  },
  {
   "cell_type": "code",
   "execution_count": 29,
   "metadata": {},
   "outputs": [],
   "source": [
    "# convert list to a dictionary\n",
    "port = [[80,\"http\"],[20,\"ftp\"],[23,\"telnet\"],[443,\"https\"],[53,\"DNS\"]] \n",
    "\n"
   ]
  },
  {
   "cell_type": "markdown",
   "metadata": {},
   "source": [
    "## update()"
   ]
  },
  {
   "cell_type": "code",
   "execution_count": 87,
   "metadata": {},
   "outputs": [
    {
     "data": {
      "text/plain": [
       "{22: 'SSH', 23: 'telnet', 80: 'Http', 53: 'DNS', 443: 'https'}"
      ]
     },
     "execution_count": 87,
     "metadata": {},
     "output_type": "execute_result"
    }
   ],
   "source": [
    "port1 = {22: \"SSH\", 23: \"telnet\", 80: \"Http\"}\n",
    "port2 = {53 :\"DNS\", 443 : \"https\"}\n",
    "\n",
    "# update port1\n",
    "port1.update(port2)\n",
    "port1"
   ]
  },
  {
   "cell_type": "markdown",
   "metadata": {},
   "source": [
    "## items()\n",
    "- The items() method returns the list of dictionary's (key, value) tuple pairs."
   ]
  },
  {
   "cell_type": "code",
   "execution_count": 30,
   "metadata": {},
   "outputs": [],
   "source": [
    "dict1 = {1: 'one', 2:'two', 3:'three'}\n",
    "\n",
    "# get the items of the dictionary\n",
    "#dict1.items()"
   ]
  },
  {
   "cell_type": "code",
   "execution_count": null,
   "metadata": {},
   "outputs": [],
   "source": []
  },
  {
   "cell_type": "markdown",
   "metadata": {},
   "source": [
    "## in Operator\n",
    "- The in operator can be used to find the existence of a key in the dictionary."
   ]
  },
  {
   "cell_type": "code",
   "execution_count": 31,
   "metadata": {},
   "outputs": [],
   "source": [
    "port1 = {21: \"FTP\", 22:\"SSH\", 23: \"telnet\", 80: \"http\"} \n",
    "\n",
    "# write a program to collect an integer key from a user, if the key is in the port, then print yes otherwise no\n",
    "\n"
   ]
  },
  {
   "cell_type": "code",
   "execution_count": 32,
   "metadata": {},
   "outputs": [],
   "source": [
    "# accessing the keys\n",
    "\n",
    "#dict1.keys()"
   ]
  },
  {
   "cell_type": "code",
   "execution_count": 33,
   "metadata": {},
   "outputs": [],
   "source": [
    "# accessing the values\n",
    "#dict1.values()\n"
   ]
  },
  {
   "cell_type": "markdown",
   "metadata": {},
   "source": [
    "## Python Dictionary with for loop"
   ]
  },
  {
   "cell_type": "code",
   "execution_count": 101,
   "metadata": {},
   "outputs": [
    {
     "name": "stdout",
     "output_type": "stream",
     "text": [
      "21 : FTP\n",
      "22 : SSH\n",
      "23 : telnet\n",
      "80 : http\n"
     ]
    }
   ],
   "source": [
    "port1 = {21: \"FTP\", 22 :\"SSH\", 23: \"telnet\", 80: \"http\"} \n",
    "\n",
    "for k, v in port1.items():\n",
    "    print(k, \":\", v)"
   ]
  },
  {
   "cell_type": "markdown",
   "metadata": {},
   "source": [
    "## Exercise\n",
    "-  Write a program using the following list and sort it based on the sum of the values of the tuples of the list:\n",
    "    - [(1,5),(9,0),(12,3),(5,4),(13,6),(1,1)]\n",
    "\n",
    "    \n",
    "-  Write a Python program to sum all the items in a list. [1, 2, -8, -3]\n",
    "\n",
    "\n",
    "-  Write a Python program to count the number of strings where the string length is 2 or more and \n",
    "the first and last character are same from a given list of strings.\n",
    "\n",
    "   ['abc', 'xyz', 'aba', '1221', 'bhgsskknb', 'aa'] \n",
    "    \n",
    "\n",
    "\n",
    "- write a program such that $list1$ will act as keys while $list2$ will act as the values of the dictionary:\n",
    "    - list1 = [1, 2, 3, 4, 5], list2 = [\"a\", \"b\", \"c\",\"d\", \"e\"] "
   ]
  },
  {
   "cell_type": "code",
   "execution_count": null,
   "metadata": {},
   "outputs": [],
   "source": []
  },
  {
   "cell_type": "code",
   "execution_count": null,
   "metadata": {},
   "outputs": [],
   "source": []
  }
 ],
 "metadata": {
  "kernelspec": {
   "display_name": "Python 3",
   "language": "python",
   "name": "python3"
  },
  "language_info": {
   "codemirror_mode": {
    "name": "ipython",
    "version": 3
   },
   "file_extension": ".py",
   "mimetype": "text/x-python",
   "name": "python",
   "nbconvert_exporter": "python",
   "pygments_lexer": "ipython3",
   "version": "3.7.7"
  }
 },
 "nbformat": 4,
 "nbformat_minor": 4
}
